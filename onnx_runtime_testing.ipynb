{
 "cells": [
  {
   "cell_type": "code",
   "execution_count": 37,
   "metadata": {},
   "outputs": [],
   "source": [
    "import onnx\n",
    "import onnxruntime as ort_cpu\n",
    "\n",
    "from PIL import Image   \n",
    "from math import floor\n",
    "import numpy as np\n",
    "\n",
    "from google.protobuf.json_format import MessageToDict"
   ]
  },
  {
   "cell_type": "code",
   "execution_count": 3,
   "metadata": {},
   "outputs": [],
   "source": [
    "onnx_model = onnx.load('./cursus-e1_model/ATLDSD4/weights/best.onnx')\n",
    "onnx.checker.check_model(onnx_model)"
   ]
  },
  {
   "cell_type": "code",
   "execution_count": 14,
   "metadata": {},
   "outputs": [
    {
     "name": "stdout",
     "output_type": "stream",
     "text": [
      "['1', '3', '256', '256']\n"
     ]
    }
   ],
   "source": [
    "for _input in onnx_model.graph.input:\n",
    "    dim = _input.type.tensor_type.shape.dim\n",
    "    input_shape = [MessageToDict(d).get('dimValue') for d in dim]\n",
    "\n",
    "print(input_shape)"
   ]
  },
  {
   "cell_type": "code",
   "execution_count": 22,
   "metadata": {},
   "outputs": [
    {
     "name": "stdout",
     "output_type": "stream",
     "text": [
      "<class 'PIL.JpegImagePlugin.JpegImageFile'>\n",
      "(214, 236)\n",
      "<class 'numpy.ndarray'>\n",
      "(236, 214, 3)\n"
     ]
    }
   ],
   "source": [
    "img = Image.open('./Download/images/als0.jpeg')\n",
    "print(type(img))\n",
    "print(img.size)\n",
    "img.show()\n",
    "img=np.array(img)\n",
    "print(type(img))\n",
    "print(img.shape)"
   ]
  },
  {
   "cell_type": "code",
   "execution_count": 32,
   "metadata": {},
   "outputs": [
    {
     "data": {
      "text/plain": [
       "232.135593220339"
      ]
     },
     "execution_count": 32,
     "metadata": {},
     "output_type": "execute_result"
    }
   ],
   "source": [
    "214*(256/236)"
   ]
  },
  {
   "cell_type": "code",
   "execution_count": 41,
   "metadata": {},
   "outputs": [
    {
     "name": "stdout",
     "output_type": "stream",
     "text": [
      "(214, 236)\n"
     ]
    },
    {
     "ename": "NameError",
     "evalue": "name 'ration' is not defined",
     "output_type": "error",
     "traceback": [
      "\u001b[0;31m---------------------------------------------------------------------------\u001b[0m",
      "\u001b[0;31mNameError\u001b[0m                                 Traceback (most recent call last)",
      "Cell \u001b[0;32mIn[41], line 5\u001b[0m\n\u001b[1;32m      3\u001b[0m \u001b[39mprint\u001b[39m(size)\n\u001b[1;32m      4\u001b[0m ratio \u001b[39m=\u001b[39m \u001b[39mfloat\u001b[39m(\u001b[39m256\u001b[39m)\u001b[39m/\u001b[39m(size[\u001b[39m0\u001b[39m] \u001b[39mif\u001b[39;00m size[\u001b[39m0\u001b[39m] \u001b[39m>\u001b[39m size[\u001b[39m1\u001b[39m] \u001b[39melse\u001b[39;00m size[\u001b[39m1\u001b[39m])\n\u001b[0;32m----> 5\u001b[0m new_size \u001b[39m=\u001b[39m \u001b[39mtuple\u001b[39m([\u001b[39mint\u001b[39m(x\u001b[39m*\u001b[39mration) \u001b[39mfor\u001b[39;00m x \u001b[39min\u001b[39;00m size])\n\u001b[1;32m      6\u001b[0m img \u001b[39m=\u001b[39m img\u001b[39m.\u001b[39mresize(new_size, Image\u001b[39m.\u001b[39mBOX)\n\u001b[1;32m      7\u001b[0m \u001b[39mprint\u001b[39m(img\u001b[39m.\u001b[39msize)\n",
      "Cell \u001b[0;32mIn[41], line 5\u001b[0m, in \u001b[0;36m<listcomp>\u001b[0;34m(.0)\u001b[0m\n\u001b[1;32m      3\u001b[0m \u001b[39mprint\u001b[39m(size)\n\u001b[1;32m      4\u001b[0m ratio \u001b[39m=\u001b[39m \u001b[39mfloat\u001b[39m(\u001b[39m256\u001b[39m)\u001b[39m/\u001b[39m(size[\u001b[39m0\u001b[39m] \u001b[39mif\u001b[39;00m size[\u001b[39m0\u001b[39m] \u001b[39m>\u001b[39m size[\u001b[39m1\u001b[39m] \u001b[39melse\u001b[39;00m size[\u001b[39m1\u001b[39m])\n\u001b[0;32m----> 5\u001b[0m new_size \u001b[39m=\u001b[39m \u001b[39mtuple\u001b[39m([\u001b[39mint\u001b[39m(x\u001b[39m*\u001b[39mration) \u001b[39mfor\u001b[39;00m x \u001b[39min\u001b[39;00m size])\n\u001b[1;32m      6\u001b[0m img \u001b[39m=\u001b[39m img\u001b[39m.\u001b[39mresize(new_size, Image\u001b[39m.\u001b[39mBOX)\n\u001b[1;32m      7\u001b[0m \u001b[39mprint\u001b[39m(img\u001b[39m.\u001b[39msize)\n",
      "\u001b[0;31mNameError\u001b[0m: name 'ration' is not defined"
     ]
    }
   ],
   "source": [
    "img = Image.open('./Download/images/als0.jpeg')\n",
    "size = img.size\n",
    "print(size)\n",
    "ratio = float(256)/(size[0] if size[0] > size[1] else size[1])\n",
    "new_size = tuple([int(x*ratio) for x in size])\n",
    "img = img.resize(new_size, Image.BOX)\n",
    "print(img.size)\n",
    "img.show()\n",
    "new_img = Image.new('RGB', (256,256))\n",
    "middle = tuple([(256-x)//2 for x in new_size])\n",
    "new_img.paste(img, middle)\n",
    "img=np.array(img)\n",
    "print(type(img))\n",
    "print(img.shape)"
   ]
  },
  {
   "cell_type": "code",
   "execution_count": 4,
   "metadata": {},
   "outputs": [],
   "source": [
    "ort_cpu_session = ort_cpu.InferenceSession('./cursus-e1_model/ATLDSD4/weights/best.onnx')\n",
    "outputs = ort_cpu_session.run()"
   ]
  }
 ],
 "metadata": {
  "kernelspec": {
   "display_name": "model-MZNk3tvk-py3.10",
   "language": "python",
   "name": "python3"
  },
  "language_info": {
   "codemirror_mode": {
    "name": "ipython",
    "version": 3
   },
   "file_extension": ".py",
   "mimetype": "text/x-python",
   "name": "python",
   "nbconvert_exporter": "python",
   "pygments_lexer": "ipython3",
   "version": "3.10.10"
  },
  "orig_nbformat": 4,
  "vscode": {
   "interpreter": {
    "hash": "63185a3d010c916f99d3b3929ce14e09dfd2ea2f625bcdc8eee6c164650fa57a"
   }
  }
 },
 "nbformat": 4,
 "nbformat_minor": 2
}
